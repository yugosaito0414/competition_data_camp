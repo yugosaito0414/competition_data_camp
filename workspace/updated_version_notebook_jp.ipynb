{
 "cells": [
  {
   "cell_type": "markdown",
   "id": "d5c8831a-7b99-4799-9c85-89b1f6c97550",
   "metadata": {},
   "source": [
    "# Python 奨学金コンペ 　"
   ]
  },
  {
   "cell_type": "markdown",
   "id": "a73d44ee-469b-49b3-bd0e-c44310290000",
   "metadata": {},
   "source": [
    "## 📖 背景\n",
    "DataCamp主催のPython奨学金コンペです。課題は、Python入門とSQL入門で得た知識を使い、PythonおよびSQLスキルを使い、問題解決力や創造的思考と組み合わせ問題を解いてください。この奨学金は、中等教育を修了または修了中で、コンピューターサイエンスまたはデータサイエンスの学位取得を考えている人を対象としています。"
   ]
  },
  {
   "cell_type": "markdown",
   "id": "652c1657-79ee-4547-9f13-99b95ff5ffe5",
   "metadata": {},
   "source": [
    "## 💡詳細はこちら\n",
    "\n",
    "次のDataCampコースが、この課題に必要なスキルなります。\n",
    "\n",
    "* [Introduction to Python](https://www.datacamp.com/courses/introduction-to-python)\n",
    "* [Introduction to SQL](https://www.datacamp.com/courses/introduction-to-sql)"
   ]
  },
  {
   "cell_type": "markdown",
   "id": "427329fa",
   "metadata": {},
   "source": [
    "## 🧑‍⚖️ 評価基準\n",
    "<p>&nbsp;</p>\n",
    "<p><strong>公開し、賛成票を獲得しなさい。\n",
    "    \n",
    "    - 最も賛成票が多かった上位100件が、2次の審査に進みます。 \n",
    "    - 投票開始前に登録されたアカウントによって行われた投票が可能です。\n",
    "\n",
    "\n",
    "| **品質** | 65% | <ul><li> 精度 (20%) - エラーがない必要があります。</li><li> 明確さ (20%) - 理解しやすく、明確に表現されている必要があります。 </li><li> 完全性 (15%) - 回答は、提示された質問に答える完全なレポートである必要があります。</li><li> 洞察 (10%) - 回答には、データに基づいた洞察が含まれている必要があります。</li></ul> \n",
    "| **分析の内容** | 20% | <ul><li>データは分析に関係しているか。 </li><li>全体の解答が完結できているか。</li><li>レポートには十分な深さが含まれていますが、簡潔でもあるか。</li> </ul> \n",
    "| **プレゼンテーション** | 15% | <ul><li>どの程度読みやすく、理解しやすいか。</li><li>適切にフォーマットされているか。</li><li>スペルと文法は正しいか。</li></ul> "
   ]
  },
  {
   "cell_type": "markdown",
   "id": "ffb9abda",
   "metadata": {},
   "source": [
    "## 📘 ルール\n",
    "\n",
    "\n",
    "- すべての回答は英語で提出する必要があります。\n",
    "\n",
    "- コンテストにはスキルの要素が強く、Python入門およびSQL入門コースを完了することをお勧めします。\n",
    "- 参加者は次の条件を満たす必要があります。\n",
    "- ※18歳以上。\n",
    "- 大学院教育プログラムを検討していること。"
   ]
  },
  {
   "cell_type": "markdown",
   "id": "e64eb2fa",
   "metadata": {},
   "source": [
    "## 😤コンペ開始"
   ]
  },
  {
   "cell_type": "markdown",
   "id": "237b1c84-c993-47dc-ac53-512c903e0c59",
   "metadata": {},
   "source": [
    "## 1️⃣ Pythonを使い、CO2 排出量を求めよ。\n",
    "\n",
    "\n",
    "## 📖 ストーリー\n",
    "あなたはカナダの公共政策擁護団体のボランティアとして活動しています。同僚からCO2排出規制に関するガイドラインの推奨事項の作成を手伝ってほしいと頼まれました。同僚は、カナダのさまざまな車両の排出ガスデータを調査した後、どの車両の排出ガスが少ないかを調査したいと考えています。"
   ]
  },
  {
   "cell_type": "markdown",
   "id": "01ea1972-ed5f-4285-b4ff-ca43477aa97b",
   "metadata": {},
   "source": [
    "## 💾 データI\n",
    "\n",
    "### カナダで使われた車両の7年間の CO2 排出量データにアクセスできます。 ([source](https://open.canada.ca/data/en/dataset/98f1a129-f628-4ce4-b24d-6f16bf24dd64#wb-auto-6)):\n",
    "\n",
    "- \"Make\" - 車両を製造する会社\n",
    "- \"Model\" - 車両のモデル\n",
    "- \"Vehicle Class\" - 用途、容量、重量による車両クラス\n",
    "- \"Engine Size(L)\" - エンジンの排気量(リットル)\n",
    "- \"Cylinders\" - シリンダーの数\n",
    "- \"Transmission\" - トランスミッションのタイプ: A = オートマチック、AM = オートマチックマニュアル、AS = セレクトシフト付きオートマチック、AV = 連続可変、M = マニュアル（3～10 = ギア数）\n",
    "- \"Fuel Type\" - 燃料タイプ: X = レギュラー ガソリン、Z = プレミアム ガソリン、D = ディーゼル、E = エタノール (E85)、N = 天然ガス\n",
    "- \"Fuel Consumption Comb (L/100 km)\" - 市街地/高速道路 (55%/45%) を組み合わせた 100 km あたりのリットル単位の燃料消費量 (L/100 km)\n",
    "- \"CO2 Emissions(g/km)\" - 市街地走行と高速道路走行を組み合わせた場合の、テールパイプからの二酸化炭素排出量 (1 キロメートルあたりのグラム数)\n",
    "\n",
    "\n",
    "データはカナダ政府のオープンデータから取得しました。[website](https://open.canada.ca/en)."
   ]
  },
  {
   "cell_type": "markdown",
   "id": "e99b4f8e",
   "metadata": {},
   "source": [
    "## データ検証＆環境構築"
   ]
  },
  {
   "cell_type": "code",
   "execution_count": 2,
   "id": "f758bf97-fa8b-4c0f-b5ae-6d97cacc1a0f",
   "metadata": {
    "chartConfig": {
     "bar": {
      "hasRoundedCorners": true,
      "stacked": false
     },
     "type": "line",
     "version": "v1"
    },
    "executionTime": 2722,
    "lastSuccessfullyExecutedCode": "# Import the pandas and numpy packages\nimport pandas as pd\nimport numpy as znp\n\n# Load the data\ncars = pd.read_csv('data/co2_emissions_canada.csv')\n\n# create numpy arrays\ncars_makes = cars['Make'].to_numpy()\ncars_models = cars['Model'].to_numpy()\ncars_classes = cars['Vehicle Class'].to_numpy()\ncars_engine_sizes = cars['Engine Size(L)'].to_numpy()\ncars_cylinders = cars['Cylinders'].to_numpy()\ncars_transmissions = cars['Transmission'].to_numpy()\ncars_fuel_types = cars['Fuel Type'].to_numpy()\ncars_fuel_consumption = cars['Fuel Consumption Comb (L/100 km)'].to_numpy()\ncars_co2_emissions = cars['CO2 Emissions(g/km)'].to_numpy()\n\n# Preview the dataframe\ncars",
    "scrolled": true,
    "visualizeDataframe": false
   },
   "outputs": [
    {
     "data": {
      "text/html": [
       "<div>\n",
       "<style scoped>\n",
       "    .dataframe tbody tr th:only-of-type {\n",
       "        vertical-align: middle;\n",
       "    }\n",
       "\n",
       "    .dataframe tbody tr th {\n",
       "        vertical-align: top;\n",
       "    }\n",
       "\n",
       "    .dataframe thead th {\n",
       "        text-align: right;\n",
       "    }\n",
       "</style>\n",
       "<table border=\"1\" class=\"dataframe\">\n",
       "  <thead>\n",
       "    <tr style=\"text-align: right;\">\n",
       "      <th></th>\n",
       "      <th>Make</th>\n",
       "      <th>Model</th>\n",
       "      <th>Vehicle Class</th>\n",
       "      <th>Engine Size(L)</th>\n",
       "      <th>Cylinders</th>\n",
       "      <th>Transmission</th>\n",
       "      <th>Fuel Type</th>\n",
       "      <th>Fuel Consumption Comb (L/100 km)</th>\n",
       "      <th>CO2 Emissions(g/km)</th>\n",
       "    </tr>\n",
       "  </thead>\n",
       "  <tbody>\n",
       "    <tr>\n",
       "      <th>0</th>\n",
       "      <td>ACURA</td>\n",
       "      <td>ILX</td>\n",
       "      <td>COMPACT</td>\n",
       "      <td>2.0</td>\n",
       "      <td>4</td>\n",
       "      <td>AS5</td>\n",
       "      <td>Z</td>\n",
       "      <td>8.5</td>\n",
       "      <td>196</td>\n",
       "    </tr>\n",
       "    <tr>\n",
       "      <th>1</th>\n",
       "      <td>ACURA</td>\n",
       "      <td>ILX</td>\n",
       "      <td>COMPACT</td>\n",
       "      <td>2.4</td>\n",
       "      <td>4</td>\n",
       "      <td>M6</td>\n",
       "      <td>Z</td>\n",
       "      <td>9.6</td>\n",
       "      <td>221</td>\n",
       "    </tr>\n",
       "    <tr>\n",
       "      <th>2</th>\n",
       "      <td>ACURA</td>\n",
       "      <td>ILX HYBRID</td>\n",
       "      <td>COMPACT</td>\n",
       "      <td>1.5</td>\n",
       "      <td>4</td>\n",
       "      <td>AV7</td>\n",
       "      <td>Z</td>\n",
       "      <td>5.9</td>\n",
       "      <td>136</td>\n",
       "    </tr>\n",
       "    <tr>\n",
       "      <th>3</th>\n",
       "      <td>ACURA</td>\n",
       "      <td>MDX 4WD</td>\n",
       "      <td>SUV - SMALL</td>\n",
       "      <td>3.5</td>\n",
       "      <td>6</td>\n",
       "      <td>AS6</td>\n",
       "      <td>Z</td>\n",
       "      <td>11.1</td>\n",
       "      <td>255</td>\n",
       "    </tr>\n",
       "    <tr>\n",
       "      <th>4</th>\n",
       "      <td>ACURA</td>\n",
       "      <td>RDX AWD</td>\n",
       "      <td>SUV - SMALL</td>\n",
       "      <td>3.5</td>\n",
       "      <td>6</td>\n",
       "      <td>AS6</td>\n",
       "      <td>Z</td>\n",
       "      <td>10.6</td>\n",
       "      <td>244</td>\n",
       "    </tr>\n",
       "  </tbody>\n",
       "</table>\n",
       "</div>"
      ],
      "text/plain": [
       "    Make       Model Vehicle Class  Engine Size(L)  Cylinders Transmission  \\\n",
       "0  ACURA         ILX       COMPACT             2.0          4          AS5   \n",
       "1  ACURA         ILX       COMPACT             2.4          4           M6   \n",
       "2  ACURA  ILX HYBRID       COMPACT             1.5          4          AV7   \n",
       "3  ACURA     MDX 4WD   SUV - SMALL             3.5          6          AS6   \n",
       "4  ACURA     RDX AWD   SUV - SMALL             3.5          6          AS6   \n",
       "\n",
       "  Fuel Type  Fuel Consumption Comb (L/100 km)  CO2 Emissions(g/km)  \n",
       "0         Z                               8.5                  196  \n",
       "1         Z                               9.6                  221  \n",
       "2         Z                               5.9                  136  \n",
       "3         Z                              11.1                  255  \n",
       "4         Z                              10.6                  244  "
      ]
     },
     "execution_count": 2,
     "metadata": {},
     "output_type": "execute_result"
    }
   ],
   "source": [
    "# pandas および numpy パッケージをインポート\n",
    "import pandas as pd\n",
    "import numpy as np\n",
    "import sqlite3\n",
    "\n",
    "# データをローディング\n",
    "df_cars = pd.read_csv('data/co2_emissions_canada.csv')\n",
    "\n",
    "# numpy 配列を作成\n",
    "cars_makes = df_cars['Make'].to_numpy()\n",
    "cars_models = df_cars['Model'].to_numpy()\n",
    "cars_classes = df_cars['Vehicle Class'].to_numpy()\n",
    "cars_engine_sizes = df_cars['Engine Size(L)'].to_numpy()\n",
    "cars_cylinders = df_cars['Cylinders'].to_numpy()\n",
    "cars_transmissions = df_cars['Transmission'].to_numpy()\n",
    "cars_fuel_types = df_cars['Fuel Type'].to_numpy()\n",
    "cars_fuel_consumption = df_cars['Fuel Consumption Comb (L/100 km)'].to_numpy()\n",
    "cars_co2_emissions = df_cars['CO2 Emissions(g/km)'].to_numpy()\n",
    "\n",
    "# データフレームをプレビュー\n",
    "df_cars.head()"
   ]
  },
  {
   "cell_type": "code",
   "execution_count": 3,
   "id": "a57ca155",
   "metadata": {},
   "outputs": [
    {
     "name": "stdout",
     "output_type": "stream",
     "text": [
      "<class 'pandas.core.frame.DataFrame'>\n",
      "RangeIndex: 7385 entries, 0 to 7384\n",
      "Data columns (total 9 columns):\n",
      " #   Column                            Non-Null Count  Dtype  \n",
      "---  ------                            --------------  -----  \n",
      " 0   Make                              7385 non-null   object \n",
      " 1   Model                             7385 non-null   object \n",
      " 2   Vehicle Class                     7385 non-null   object \n",
      " 3   Engine Size(L)                    7385 non-null   float64\n",
      " 4   Cylinders                         7385 non-null   int64  \n",
      " 5   Transmission                      7385 non-null   object \n",
      " 6   Fuel Type                         7385 non-null   object \n",
      " 7   Fuel Consumption Comb (L/100 km)  7385 non-null   float64\n",
      " 8   CO2 Emissions(g/km)               7385 non-null   int64  \n",
      "dtypes: float64(2), int64(2), object(5)\n",
      "memory usage: 519.4+ KB\n"
     ]
    }
   ],
   "source": [
    "df_cars.info()"
   ]
  },
  {
   "cell_type": "code",
   "execution_count": 4,
   "id": "45f54ae2",
   "metadata": {},
   "outputs": [
    {
     "data": {
      "text/plain": [
       "(7385, 9)"
      ]
     },
     "execution_count": 4,
     "metadata": {},
     "output_type": "execute_result"
    }
   ],
   "source": [
    "df_cars.shape"
   ]
  },
  {
   "cell_type": "code",
   "execution_count": 5,
   "id": "3f5bb25d",
   "metadata": {
    "scrolled": false
   },
   "outputs": [
    {
     "data": {
      "text/html": [
       "<div>\n",
       "<style scoped>\n",
       "    .dataframe tbody tr th:only-of-type {\n",
       "        vertical-align: middle;\n",
       "    }\n",
       "\n",
       "    .dataframe tbody tr th {\n",
       "        vertical-align: top;\n",
       "    }\n",
       "\n",
       "    .dataframe thead th {\n",
       "        text-align: right;\n",
       "    }\n",
       "</style>\n",
       "<table border=\"1\" class=\"dataframe\">\n",
       "  <thead>\n",
       "    <tr style=\"text-align: right;\">\n",
       "      <th></th>\n",
       "      <th>Engine Size(L)</th>\n",
       "      <th>Cylinders</th>\n",
       "      <th>Fuel Consumption Comb (L/100 km)</th>\n",
       "      <th>CO2 Emissions(g/km)</th>\n",
       "    </tr>\n",
       "  </thead>\n",
       "  <tbody>\n",
       "    <tr>\n",
       "      <th>count</th>\n",
       "      <td>7385.000000</td>\n",
       "      <td>7385.000000</td>\n",
       "      <td>7385.000000</td>\n",
       "      <td>7385.000000</td>\n",
       "    </tr>\n",
       "    <tr>\n",
       "      <th>mean</th>\n",
       "      <td>3.160068</td>\n",
       "      <td>5.615030</td>\n",
       "      <td>10.975071</td>\n",
       "      <td>250.584699</td>\n",
       "    </tr>\n",
       "    <tr>\n",
       "      <th>std</th>\n",
       "      <td>1.354170</td>\n",
       "      <td>1.828307</td>\n",
       "      <td>2.892506</td>\n",
       "      <td>58.512679</td>\n",
       "    </tr>\n",
       "    <tr>\n",
       "      <th>min</th>\n",
       "      <td>0.900000</td>\n",
       "      <td>3.000000</td>\n",
       "      <td>4.100000</td>\n",
       "      <td>96.000000</td>\n",
       "    </tr>\n",
       "    <tr>\n",
       "      <th>25%</th>\n",
       "      <td>2.000000</td>\n",
       "      <td>4.000000</td>\n",
       "      <td>8.900000</td>\n",
       "      <td>208.000000</td>\n",
       "    </tr>\n",
       "    <tr>\n",
       "      <th>50%</th>\n",
       "      <td>3.000000</td>\n",
       "      <td>6.000000</td>\n",
       "      <td>10.600000</td>\n",
       "      <td>246.000000</td>\n",
       "    </tr>\n",
       "    <tr>\n",
       "      <th>75%</th>\n",
       "      <td>3.700000</td>\n",
       "      <td>6.000000</td>\n",
       "      <td>12.600000</td>\n",
       "      <td>288.000000</td>\n",
       "    </tr>\n",
       "    <tr>\n",
       "      <th>max</th>\n",
       "      <td>8.400000</td>\n",
       "      <td>16.000000</td>\n",
       "      <td>26.100000</td>\n",
       "      <td>522.000000</td>\n",
       "    </tr>\n",
       "  </tbody>\n",
       "</table>\n",
       "</div>"
      ],
      "text/plain": [
       "       Engine Size(L)    Cylinders  Fuel Consumption Comb (L/100 km)  \\\n",
       "count     7385.000000  7385.000000                       7385.000000   \n",
       "mean         3.160068     5.615030                         10.975071   \n",
       "std          1.354170     1.828307                          2.892506   \n",
       "min          0.900000     3.000000                          4.100000   \n",
       "25%          2.000000     4.000000                          8.900000   \n",
       "50%          3.000000     6.000000                         10.600000   \n",
       "75%          3.700000     6.000000                         12.600000   \n",
       "max          8.400000    16.000000                         26.100000   \n",
       "\n",
       "       CO2 Emissions(g/km)  \n",
       "count          7385.000000  \n",
       "mean            250.584699  \n",
       "std              58.512679  \n",
       "min              96.000000  \n",
       "25%             208.000000  \n",
       "50%             246.000000  \n",
       "75%             288.000000  \n",
       "max             522.000000  "
      ]
     },
     "execution_count": 5,
     "metadata": {},
     "output_type": "execute_result"
    }
   ],
   "source": [
    "df_cars.describe()"
   ]
  },
  {
   "cell_type": "code",
   "execution_count": 6,
   "id": "90c58b22",
   "metadata": {},
   "outputs": [
    {
     "data": {
      "text/plain": [
       "array([196, 221, 136, 255, 244, 230, 232, 255, 267, 212])"
      ]
     },
     "execution_count": 6,
     "metadata": {},
     "output_type": "execute_result"
    }
   ],
   "source": [
    "# CO2排出量配列の最初の10項目を表示（テスト）\n",
    "cars_co2_emissions[:10]"
   ]
  },
  {
   "cell_type": "code",
   "execution_count": 7,
   "id": "bd6b1a57",
   "metadata": {
    "scrolled": true
   },
   "outputs": [
    {
     "data": {
      "text/plain": [
       "array(['COMPACT', 'FULL-SIZE', 'MID-SIZE', 'MINICOMPACT', 'MINIVAN',\n",
       "       'PICKUP TRUCK - SMALL', 'PICKUP TRUCK - STANDARD',\n",
       "       'SPECIAL PURPOSE VEHICLE', 'STATION WAGON - MID-SIZE',\n",
       "       'STATION WAGON - SMALL', 'SUBCOMPACT', 'SUV - SMALL',\n",
       "       'SUV - STANDARD', 'TWO-SEATER', 'VAN - CARGO', 'VAN - PASSENGER'],\n",
       "      dtype=object)"
      ]
     },
     "execution_count": 7,
     "metadata": {},
     "output_type": "execute_result"
    }
   ],
   "source": [
    "check = np.unique(cars_classes)\n",
    "check"
   ]
  },
  {
   "cell_type": "markdown",
   "id": "e134e5c0",
   "metadata": {},
   "source": [
    "### データ検証の結果\n",
    "\n",
    "- 特に欠損値があるわけでもなく、すごく綺麗なデータだったのでこのまま問題に入っていこうと思います。"
   ]
  },
  {
   "cell_type": "markdown",
   "id": "2a3a271c-8db8-4bb9-8905-b4cd24d5688c",
   "metadata": {},
   "source": [
    "## 💪 チャレンジ問題\n",
    "同僚がCO2排出量の少ない車両の種類について分からず困っているようです。以下の事を知りたいです：\n",
    "\n",
    "1. 全ての車のエンジンサイズの中央値は何リットルですか?\n",
    "2. レギュラーガソリン（燃料種類＝X）、プレミアムガソリン（燃料種類＝Z）、エタノール（燃料種類＝E）、軽油（燃料種類＝D）の平均燃費はどれくらいですか？ \n",
    "3. 燃料消費量とCO2排出量の相関関係は何ですか?\n",
    "4. SUV-SMALLとMID-SIZEのどちらの車両クラスが平均CO2排出量が少ないですか?\n",
    "5. すべての車両の平均CO2排出量はどれくらいですか? エンジンサイズが2.0リッター以下の車両の排出量に違いはありますかか？\n",
    "6. 分析中に他に発見した事はありますか?"
   ]
  },
  {
   "cell_type": "markdown",
   "id": "ba279ac6-885b-4f7f-bcd2-8518e8d50a54",
   "metadata": {},
   "source": [
    "1. 全ての車のエンジンサイズの中央値は何リットルですか?"
   ]
  },
  {
   "cell_type": "code",
   "execution_count": 8,
   "id": "50c30de7-e40b-46f8-b4ab-bf8b48be4a42",
   "metadata": {
    "executionTime": 41,
    "lastSuccessfullyExecutedCode": "# Import all the libraries you need to use.\nimport pandas as pd\nimport numpy as znp\nimport statistics\nimport math\n\n# Load the data\ncars = pd.read_csv('data/co2_emissions_canada.csv')\n\n# create numpy arrays\ncars_makes = cars['Make'].to_numpy()\ncars_models = cars['Model'].to_numpy()\ncars_classes = cars['Vehicle Class'].to_numpy()\ncars_engine_sizes = cars['Engine Size(L)'].to_numpy()\ncars_cylinders = cars['Cylinders'].to_numpy()\ncars_transmissions = cars['Transmission'].to_numpy()\ncars_fuel_types = cars['Fuel Type'].to_numpy()\ncars_fuel_consumption = cars['Fuel Consumption Comb (L/100 km)'].to_numpy()\ncars_co2_emissions = cars['CO2 Emissions(g/km)'].to_numpy()\n\n# average engine size(L) for all cars.\nmedian_engine_size = statistics.mean(cars_engine_sizes)\nprint(median_engine_size)\n\n"
   },
   "outputs": [
    {
     "name": "stdout",
     "output_type": "stream",
     "text": [
      "3.1600677048070414\n"
     ]
    }
   ],
   "source": [
    "# 必要があるすべてのライブラリをインポート\n",
    "import statistics\n",
    "import math\n",
    "\n",
    "# 全車の平均エンジンサイズ(L)を抽出\n",
    "median_engine_size = statistics.mean(cars_engine_sizes)\n",
    "print(median_engine_size)"
   ]
  },
  {
   "cell_type": "markdown",
   "id": "fb872d49-b996-454e-ae32-3da3ea1163b8",
   "metadata": {},
   "source": [
    "2. レギュラーガソリン（燃料種類＝X）、プレミアムガソリン（Z）、エタノール（E）、軽油（D）の平均燃費はどれくらいですか？ 質問に答えるには、cars_fuel_typesからX要素を取得する必要があります。"
   ]
  },
  {
   "cell_type": "code",
   "execution_count": 9,
   "id": "4b85b91c-9d19-45eb-b855-9bc12a819c30",
   "metadata": {
    "executionTime": 36,
    "lastSuccessfullyExecutedCode": "# Import all the libraries you need to use.\nimport pandas as pd\nimport numpy as znp\nimport statistics\nimport math\n\n# Load the data\ncars = pd.read_csv('data/co2_emissions_canada.csv')\n\n# create numpy arrays\ncars_makes = cars['Make'].to_numpy()\ncars_models = cars['Model'].to_numpy()\ncars_classes = cars['Vehicle Class'].to_numpy()\ncars_engine_sizes = cars['Engine Size(L)'].to_numpy()\ncars_cylinders = cars['Cylinders'].to_numpy()\ncars_transmissions = cars['Transmission'].to_numpy()\ncars_fuel_types = cars['Fuel Type'].to_numpy()\ncars_fuel_consumption = cars['Fuel Consumption Comb (L/100 km)'].to_numpy()\ncars_co2_emissions = cars['CO2 Emissions(g/km)'].to_numpy()\n\n#an average fuel consumption for all cars. \nall_cars_fuel_average = statistics.mean(cars_fuel_consumption)\n# Printing average of the list\nprint (\"all cars average fuel consumption\")\nprint(round(all_cars_fuel_average, 2))\n\n#The fuel type: X = Regular gasoline, Z = Premium gasoline, D = Diesel, E = Ethanol (E85), N = natural gas.\n\n#an average Regular gasoline fuel consumption. \nX_cars_fuel_average = cars[cars_fuel_types == 'X']['Fuel Consumption Comb (L/100 km)'].mean()\nprint (\"Regular cars average fuel consumption\")\nprint (round(X_cars_fuel_average, 2))\n\n#an average Premium gasoline fuel consumption. \nZ_cars_fuel_average = cars[cars_fuel_types == 'Z']['Fuel Consumption Comb (L/100 km)'].mean()\nprint (\"Premium gasoline cars average fuel consumption\")\nprint (round(Z_cars_fuel_average, 2))\n\n#an average Diesel gasoline fuel consumption. \nD_cars_fuel_average = cars[cars_fuel_types == 'D']['Fuel Consumption Comb (L/100 km)'].mean()\nprint (\"Diesel cars average fuel consumption\")\nprint (round(D_cars_fuel_average, 2))\n\n#an average Ethanol gasoline fuel consumption. \nE_cars_fuel_average = cars[cars_fuel_types == 'E']['Fuel Consumption Comb (L/100 km)'].mean()\nprint (\"Ethanol cars average fuel consumption\")\nprint (round(E_cars_fuel_average, 2))\n\n#an average natural gas fuel consumption. \nN_cars_fuel_average = cars[cars_fuel_types == 'N']['Fuel Consumption Comb (L/100 km)'].mean()\nprint (\"natural gas cars average fuel consumption\")\nprint (round(N_cars_fuel_average, 2))\n"
   },
   "outputs": [
    {
     "name": "stdout",
     "output_type": "stream",
     "text": [
      "全車の平均燃費: 10.98 (L/100 km) \n",
      "レギュラーガソリンの平均燃費: 10.08 (L/100 km) \n",
      "プレミアムガソリンの平均燃料消費量: 11.42 (L/100 km) \n",
      "ディーゼルガソリンの平均燃料消費量: 8.84 (L/100 km) \n",
      "エタノールガソリンの平均燃料消費量: 16.86 (L/100 km) \n",
      "天然ガス燃料消費量: 12.7 (L/100 km) \n"
     ]
    }
   ],
   "source": [
    "#全車の平均燃費\n",
    "all_cars_fuel_average = statistics.mean(cars_fuel_consumption)\n",
    "print (f\"全車の平均燃費: {round(all_cars_fuel_average, 2)} (L/100 km) \")\n",
    "\n",
    "#燃料の種類: X = レギュラー ガソリン、Z = プレミアム ガソリン、D = ディーゼル、E = エタノール (E85)、N = 天然ガス。\n",
    "\n",
    "#レギュラーガソリンの平均燃料消費量\n",
    "X_cars_fuel_average = df_cars[cars_fuel_types == 'X']['Fuel Consumption Comb (L/100 km)'].mean()\n",
    "print (f\"レギュラーガソリンの平均燃費: {round(X_cars_fuel_average, 2)} (L/100 km) \")\n",
    "\n",
    "#プレミアムガソリンの平均燃料消費量\n",
    "Z_cars_fuel_average = df_cars[cars_fuel_types == 'Z']['Fuel Consumption Comb (L/100 km)'].mean()\n",
    "print (f\"プレミアムガソリンの平均燃料消費量: {round(Z_cars_fuel_average, 2)} (L/100 km) \")\n",
    "\n",
    "#ディーゼルガソリンの平均燃料消費量\n",
    "D_cars_fuel_average = df_cars[cars_fuel_types == 'D']['Fuel Consumption Comb (L/100 km)'].mean()\n",
    "print (f\"ディーゼルガソリンの平均燃料消費量: {round(D_cars_fuel_average, 2)} (L/100 km) \")\n",
    "\n",
    "#エタノールガソリンの平均燃料消費量\n",
    "E_cars_fuel_average = df_cars[cars_fuel_types == 'E']['Fuel Consumption Comb (L/100 km)'].mean()\n",
    "print (f\"エタノールガソリンの平均燃料消費量: {round(E_cars_fuel_average, 2)} (L/100 km) \")\n",
    "\n",
    "#天然ガス燃料消費量\n",
    "N_cars_fuel_average = df_cars[cars_fuel_types == 'N']['Fuel Consumption Comb (L/100 km)'].mean()\n",
    "print (f\"天然ガス燃料消費量: {round(N_cars_fuel_average, 2)} (L/100 km) \")\n"
   ]
  },
  {
   "cell_type": "markdown",
   "id": "52217191-6f16-403b-9712-fb6e84a38ebd",
   "metadata": {},
   "source": [
    "質問の解答から、エタノール車が最も100kmあたりで燃料を消費することがわかります。 次に天然ガス、3番目に燃費が悪いのがプレミアムガソリン。逆に燃費の消費量が少ないのは、ディーゼル車です。 ディーゼル車はどの車よりも二酸化炭素（CO2）の消費量が少ないことがわかります。"
   ]
  },
  {
   "cell_type": "markdown",
   "id": "f8396a69-c62d-428a-8e60-212075f00606",
   "metadata": {},
   "source": [
    "3. 燃料消費量とCO2排出量の相関関係があるか調べて下さい。もし関係性がある場合、散布図を使い調べます。自動車が燃料が使えば使うほど、より多くのCO2が排出されると仮定します。"
   ]
  },
  {
   "cell_type": "code",
   "execution_count": 10,
   "id": "1ecb00a6-a517-4fef-9ff0-7e557c5c7a9f",
   "metadata": {
    "executionTime": 633,
    "lastSuccessfullyExecutedCode": "# Import all the libraries you need to use.\nimport pandas as pd\nimport numpy as znp\nimport statistics\nimport math\nimport matplotlib.pyplot as plt\n\n\n# Load the data\ncars = pd.read_csv('data/co2_emissions_canada.csv')\n\n# create numpy arrays\ncars_makes = cars['Make'].to_numpy()\ncars_models = cars['Model'].to_numpy()\ncars_classes = cars['Vehicle Class'].to_numpy()\ncars_engine_sizes = cars['Engine Size(L)'].to_numpy()\ncars_cylinders = cars['Cylinders'].to_numpy()\ncars_transmissions = cars['Transmission'].to_numpy()\ncars_fuel_types = cars['Fuel Type'].to_numpy()\ncars_fuel_consumption = cars['Fuel Consumption Comb (L/100 km)'].to_numpy()\ncars_co2_emissions = cars['CO2 Emissions(g/km)'].to_numpy()\n\n#visualizing a graph is one of the great way to know two variable's relationships.\nplt.scatter(cars_fuel_consumption, cars_co2_emissions)\nplt.xlabel(\"cars_fuel_consumption\")\nplt.ylabel(\"cars_co2_emissions\")\nplt.show()\n\n#we can identify the relationship between two variable by using corrcoef function. \nznp.corrcoef(cars_fuel_consumption, cars_co2_emissions)\n"
   },
   "outputs": [
    {
     "data": {
      "image/png": "[encoded data removed]",
      "text/plain": [
       "<Figure size 640x480 with 1 Axes>"
      ]
     },
     "metadata": {},
     "output_type": "display_data"
    },
    {
     "data": {
      "text/plain": [
       "array([[1.        , 0.91805157],\n",
       "       [0.91805157, 1.        ]])"
      ]
     },
     "execution_count": 10,
     "metadata": {},
     "output_type": "execute_result"
    }
   ],
   "source": [
    "import matplotlib.pyplot as plt\n",
    "\n",
    "#グラフを視覚化するために、2 つの変数（cars_fuel_consumption、cars_co2_emissions）を代入\n",
    "plt.scatter(cars_fuel_consumption, cars_co2_emissions)\n",
    "plt.xlabel(\"cars_fuel_consumption\")\n",
    "plt.ylabel(\"cars_co2_emissions\")\n",
    "plt.show()\n",
    "\n",
    "#corrcoef関数を使用し、2つの変数間が正の相関か調べます\n",
    "np.corrcoef(cars_fuel_consumption, cars_co2_emissions)\n"
   ]
  },
  {
   "cell_type": "markdown",
   "id": "3231e9e1-c38a-4838-b209-51bcb5134d59",
   "metadata": {},
   "source": [
    "結果は予測通り、燃費とco2排出量は正の相関があります。 "
   ]
  },
  {
   "cell_type": "markdown",
   "id": "c5d777f6-3c29-41e1-ae23-fde787f8c1fd",
   "metadata": {},
   "source": [
    "4. 「SUV-SMALL」と「MID-SIZE」のどちらの車両クラスが平均CO2排出量が低いですか?"
   ]
  },
  {
   "cell_type": "code",
   "execution_count": 11,
   "id": "cd09830e-ea85-435c-8f3c-c18b354eb0e4",
   "metadata": {
    "executionTime": 47,
    "lastSuccessfullyExecutedCode": "# Import the pandas and numpy packages\nimport pandas as pd\nimport numpy as np\n\n# Load the data\ncars = pd.read_csv('data/co2_emissions_canada.csv')\n\n# Extract the necessary columns as Pandas Series objects\ncars_classes = cars['Vehicle Class']\ncars_co2_emissions = cars['CO2 Emissions(g/km)']\n\n# Calculate the average CO2 emissions for SUV-SMALL and MID-SIZE cars\nsuv_small_co2_average = round(cars[cars_classes == 'SUV - SMALL']['CO2 Emissions(g/km)'].mean(), 2)\nprint(\"Average SUV-SMALL CO2 emissions:\")\nprint(suv_small_co2_average)\n\nmid_size_co2_average = round(cars[cars_classes == 'MID-SIZE']['CO2 Emissions(g/km)'].mean(), 2)\nprint(\"Average MID-SIZE CO2 emissions:\")\nprint(mid_size_co2_average)\n",
    "scrolled": false
   },
   "outputs": [
    {
     "name": "stdout",
     "output_type": "stream",
     "text": [
      "SUV-SMALL の平均 CO2 排出量:236.29g/km\n",
      "MID-SIZE  の平均 CO2 排出量:222.46g/km\n"
     ]
    }
   ],
   "source": [
    "# 必要な列をPandas Seriesオブジェクトとして抽出\n",
    "cars_classes = df_cars['Vehicle Class']\n",
    "cars_co2_emissions = df_cars['CO2 Emissions(g/km)']\n",
    "\n",
    "# SUV-SMALL の平均 CO2 排出量を計算\n",
    "suv_small_co2_average = round(df_cars[cars_classes == 'SUV - SMALL']['CO2 Emissions(g/km)'].mean(), 2)\n",
    "print(f\"SUV-SMALL の平均 CO2 排出量:{suv_small_co2_average}g/km\")\n",
    "\n",
    "#MID-SIZE の平均 CO2 排出量を計算\n",
    "mid_size_co2_average = round(df_cars[cars_classes == 'MID-SIZE']['CO2 Emissions(g/km)'].mean(), 2)\n",
    "print(f\"MID-SIZE  の平均 CO2 排出量:{mid_size_co2_average}g/km\")\n"
   ]
  },
  {
   "cell_type": "markdown",
   "id": "76c9bc19",
   "metadata": {},
   "source": [
    "MID-SIZE の平均 CO2 排出量の方がSUV-SMALL より、排出量が少ない事がわかります。データを分析結果、小型SUVの方が一般中型車よりも1kmあたりの排出量が多くなりました。"
   ]
  },
  {
   "cell_type": "markdown",
   "id": "c8e882d5-8bba-4edf-8e25-426b953f5017",
   "metadata": {},
   "source": [
    "5. すべての車両の平均CO2排出量はどれくらいですか? エンジンサイズが2.0リッター以下の車両の平均CO2排出量も求めて下さい。"
   ]
  },
  {
   "cell_type": "code",
   "execution_count": 12,
   "id": "aea4531e-5c56-4bab-8ff4-9efffaa5a396",
   "metadata": {
    "executionTime": 40,
    "lastSuccessfullyExecutedCode": "# Import all the libraries you need to use.\nimport pandas as pd\nimport numpy as np\nimport statistics\nimport math\n\n# Load the data\ncars = pd.read_csv('data/co2_emissions_canada.csv')\n\n# create numpy arrays\ncars_makes = cars['Make'].to_numpy()\ncars_models = cars['Model'].to_numpy()\ncars_classes = cars['Vehicle Class'].to_numpy()\ncars_engine_sizes = cars['Engine Size(L)'].to_numpy()\ncars_cylinders = cars['Cylinders'].to_numpy()\ncars_transmissions = cars['Transmission'].to_numpy()\ncars_fuel_types = cars['Fuel Type'].to_numpy()\ncars_fuel_consumption = cars['Fuel Consumption Comb (L/100 km)'].to_numpy()\ncars_co2_emissions = cars['CO2 Emissions(g/km)'].to_numpy()\n\n#an average co2 emission for all vehicles. \naverage_co2_emission = cars['CO2 Emissions(g/km)'].mean()\nprint (\"average co2 emission for all vehicles\")\nprint (round(average_co2_emission, 2))\n\n#an average co2 emission for vehicles with an engine size of 2.0 liters or smaller.\naverage_co2_emission_for_small_cars = cars[cars_engine_sizes < 2]['CO2 Emissions(g/km)'].mean()\nprint (\"average co2 emission for small cars.\")\nprint (round(average_co2_emission_for_small_cars,2))"
   },
   "outputs": [
    {
     "name": "stdout",
     "output_type": "stream",
     "text": [
      "全車両の平均CO2排出量: 250.58g/km\n",
      "エンジンサイズが2.0リッター以下の車両の平均CO2排出量: 180.92g/km\n"
     ]
    }
   ],
   "source": [
    "#すべての車両の平均CO2排出量。\n",
    "average_co2_emission = df_cars['CO2 Emissions(g/km)'].mean()\n",
    "print (f\"全車両の平均CO2排出量: {round(average_co2_emission, 2)}g/km\")\n",
    "\n",
    "#エンジンサイズが2.0リッター以下の車両の平均 CO2 排出量。\n",
    "average_co2_emission_for_small_cars = df_cars[cars_engine_sizes < 2]['CO2 Emissions(g/km)'].mean()\n",
    "print (f\"エンジンサイズが2.0リッター以下の車両の平均CO2排出量: {round(average_co2_emission_for_small_cars,2)}g/km\")"
   ]
  },
  {
   "cell_type": "markdown",
   "id": "d522e07c-cd92-4eab-b693-58a78a9292f1",
   "metadata": {},
   "source": [
    "6. 最後に日本車（トヨタ）、アメリカ車（フォード）、どちらの方が、排出ガスが少ないのかを調べてみた後、どの車種が最も環境に悪いかも調べてみます。2社の総合的に比較をし、どれくらい環境に優しい車、あるいは環境に悪い車を作るのかを比べます。"
   ]
  },
  {
   "cell_type": "code",
   "execution_count": 13,
   "id": "ff7715a7-68d2-4cc9-a0ae-53f91fd79103",
   "metadata": {
    "executionTime": 740,
    "lastSuccessfullyExecutedCode": "# Import all the libraries you need to use.\nimport pandas as pd\nimport numpy as np\nimport statistics\nimport math\nimport matplotlib.pyplot as plt\n\n# Load the data\ncars = pd.read_csv('data/co2_emissions_canada.csv')\n\n# Create a new DataFrame with only Toyota cars\ntoyota_cars = cars[cars['Make'] == 'TOYOTA']\n\n# Find the worst Toyota car based on CO2 emissions\nworst_toyota_car = toyota_cars.loc[toyota_cars['CO2 Emissions(g/km)'].idxmax()]\n\n# Print the result\nprint(\"The worst Toyota car is:\")\nprint(worst_toyota_car['Make'], worst_toyota_car['Model'], worst_toyota_car['CO2 Emissions(g/km)'])\n\n# Create a new DataFrame with only Ford cars\nford_cars = cars[cars['Make'] == 'FORD']\n\n# Find the worst Ford car based on CO2 emissions\nworst_ford_car = ford_cars.loc[ford_cars['CO2 Emissions(g/km)'].idxmax()]\n\n# Print the result\nprint(\"The worst Ford car is:\")\nprint(worst_ford_car['Make'], worst_ford_car['Model'], worst_ford_car['CO2 Emissions(g/km)'])\n\n# Plot the relationship between engine size and CO2 emissions for Toyota and Ford cars\nplt.scatter(toyota_cars['Engine Size(L)'], toyota_cars['CO2 Emissions(g/km)'], label='Toyota')\nplt.scatter(ford_cars['Engine Size(L)'], ford_cars['CO2 Emissions(g/km)'], label='Ford')\nplt.xlabel(\"Engine Size (L)\")\nplt.ylabel(\"CO2 Emissions (g/km)\")\nplt.legend()\nplt.show()\n\n",
    "scrolled": true
   },
   "outputs": [
    {
     "name": "stdout",
     "output_type": "stream",
     "text": [
      "最も環境に悪いトヨタ車は: Sequoia 4WD,CO2排出量は385(g/km)です。\n",
      "最も環境に悪いフォード車は: E350 WAGON,CO2排出量は488(g/km)です。\n"
     ]
    },
    {
     "data": {
      "image/png": "[encoded data removed]",
      "text/plain": [
       "<Figure size 640x480 with 1 Axes>"
      ]
     },
     "metadata": {},
     "output_type": "display_data"
    }
   ],
   "source": [
    "# トヨタ車のみを含む新しいデータフレームを作成\n",
    "toyota_cars = df_cars[df_cars['Make'] == 'TOYOTA']\n",
    "\n",
    "# CO2排出量を元に最も環境に悪いトヨタ車を見つける\n",
    "worst_toyota_car = toyota_cars.loc[toyota_cars['CO2 Emissions(g/km)'].idxmax()]\n",
    "print(f\"最も環境に悪いトヨタ車は: {worst_toyota_car['Model']},CO2排出量は{worst_toyota_car['CO2 Emissions(g/km)']}(g/km)です。\")\n",
    "\n",
    "# フォード車のみを含む新しいデータフレームを作成\n",
    "ford_cars = df_cars[df_cars['Make'] == 'FORD']\n",
    "\n",
    "# CO2排出量を元に最も環境に悪いフォード車を見つける\n",
    "worst_ford_car = ford_cars.loc[ford_cars['CO2 Emissions(g/km)'].idxmax()]\n",
    "print(f\"最も環境に悪いフォード車は: {worst_ford_car['Model']},CO2排出量は{worst_ford_car['CO2 Emissions(g/km)']}(g/km)です。\")\n",
    "\n",
    "# トヨタ車とフォード車のエンジンサイズとCO2排出量の関係をプロット\n",
    "plt.scatter(toyota_cars['Engine Size(L)'], toyota_cars['CO2 Emissions(g/km)'], label='Toyota')\n",
    "plt.scatter(ford_cars['Engine Size(L)'], ford_cars['CO2 Emissions(g/km)'], label='Ford')\n",
    "plt.xlabel(\"Engine Size (L)\")\n",
    "plt.ylabel(\"CO2 Emissions (g/km)\")\n",
    "plt.legend()\n",
    "plt.show()"
   ]
  },
  {
   "cell_type": "markdown",
   "id": "d49b1138-c626-4417-b2f1-3be0caf2b93c",
   "metadata": {},
   "source": [
    "## 2️⃣ SQL を使い、より深くデータを分析し、理解を深めなさい。"
   ]
  },
  {
   "cell_type": "markdown",
   "id": "adad116b-4ce0-4d46-ba2c-6f862cefbe0c",
   "metadata": {},
   "source": [
    "## Jupyter NotebookでSQLを実行し分析"
   ]
  },
  {
   "cell_type": "markdown",
   "id": "ebda434b",
   "metadata": {},
   "source": [
    "### SQLの環境を構築"
   ]
  },
  {
   "cell_type": "code",
   "execution_count": 89,
   "id": "0e8232df-a7bd-4423-8777-de0a8e84866b",
   "metadata": {
    "chartConfig": {
     "bar": {
      "hasRoundedCorners": true,
      "stacked": false
     },
     "type": "bar",
     "version": "v1"
    },
    "customType": "sql",
    "dataFrameVariableName": "df",
    "executionTime": 1810,
    "initial": false,
    "integrationId": "3b99a52b-51d6-49a4-b2fd-4ca490fb4f4b",
    "lastSuccessfullyExecutedCode": "SELECT * \nFROM products;",
    "scrolled": false,
    "visualizeDataframe": false
   },
   "outputs": [
    {
     "name": "stdout",
     "output_type": "stream",
     "text": [
      "Requirement already satisfied: ipython-sql in /Users/yugosaito/anaconda3/lib/python3.10/site-packages (0.5.0)\n",
      "Requirement already satisfied: sqlalchemy>=2.0 in /Users/yugosaito/anaconda3/lib/python3.10/site-packages (from ipython-sql) (2.0.17)\n",
      "Requirement already satisfied: ipython in /Users/yugosaito/anaconda3/lib/python3.10/site-packages (from ipython-sql) (8.10.0)\n",
      "Requirement already satisfied: ipython-genutils in /Users/yugosaito/anaconda3/lib/python3.10/site-packages (from ipython-sql) (0.2.0)\n",
      "Requirement already satisfied: prettytable in /Users/yugosaito/anaconda3/lib/python3.10/site-packages (from ipython-sql) (3.8.0)\n",
      "Requirement already satisfied: sqlparse in /Users/yugosaito/anaconda3/lib/python3.10/site-packages (from ipython-sql) (0.4.4)\n",
      "Requirement already satisfied: six in /Users/yugosaito/anaconda3/lib/python3.10/site-packages (from ipython-sql) (1.16.0)\n",
      "Requirement already satisfied: greenlet!=0.4.17 in /Users/yugosaito/anaconda3/lib/python3.10/site-packages (from sqlalchemy>=2.0->ipython-sql) (2.0.1)\n",
      "Requirement already satisfied: typing-extensions>=4.2.0 in /Users/yugosaito/anaconda3/lib/python3.10/site-packages (from sqlalchemy>=2.0->ipython-sql) (4.4.0)\n",
      "Requirement already satisfied: prompt-toolkit<3.1.0,>=3.0.30 in /Users/yugosaito/anaconda3/lib/python3.10/site-packages (from ipython->ipython-sql) (3.0.36)\n",
      "Requirement already satisfied: pickleshare in /Users/yugosaito/anaconda3/lib/python3.10/site-packages (from ipython->ipython-sql) (0.7.5)\n",
      "Requirement already satisfied: appnope in /Users/yugosaito/anaconda3/lib/python3.10/site-packages (from ipython->ipython-sql) (0.1.2)\n",
      "Requirement already satisfied: matplotlib-inline in /Users/yugosaito/anaconda3/lib/python3.10/site-packages (from ipython->ipython-sql) (0.1.6)\n",
      "Requirement already satisfied: jedi>=0.16 in /Users/yugosaito/anaconda3/lib/python3.10/site-packages (from ipython->ipython-sql) (0.18.1)\n",
      "Requirement already satisfied: pexpect>4.3 in /Users/yugosaito/anaconda3/lib/python3.10/site-packages (from ipython->ipython-sql) (4.8.0)\n",
      "Requirement already satisfied: pygments>=2.4.0 in /Users/yugosaito/anaconda3/lib/python3.10/site-packages (from ipython->ipython-sql) (2.11.2)\n",
      "Requirement already satisfied: traitlets>=5 in /Users/yugosaito/anaconda3/lib/python3.10/site-packages (from ipython->ipython-sql) (5.7.1)\n",
      "Requirement already satisfied: stack-data in /Users/yugosaito/anaconda3/lib/python3.10/site-packages (from ipython->ipython-sql) (0.2.0)\n",
      "Requirement already satisfied: decorator in /Users/yugosaito/anaconda3/lib/python3.10/site-packages (from ipython->ipython-sql) (5.1.1)\n",
      "Requirement already satisfied: backcall in /Users/yugosaito/anaconda3/lib/python3.10/site-packages (from ipython->ipython-sql) (0.2.0)\n",
      "Requirement already satisfied: wcwidth in /Users/yugosaito/anaconda3/lib/python3.10/site-packages (from prettytable->ipython-sql) (0.2.5)\n",
      "Requirement already satisfied: parso<0.9.0,>=0.8.0 in /Users/yugosaito/anaconda3/lib/python3.10/site-packages (from jedi>=0.16->ipython->ipython-sql) (0.8.3)\n",
      "Requirement already satisfied: ptyprocess>=0.5 in /Users/yugosaito/anaconda3/lib/python3.10/site-packages (from pexpect>4.3->ipython->ipython-sql) (0.7.0)\n",
      "Requirement already satisfied: pure-eval in /Users/yugosaito/anaconda3/lib/python3.10/site-packages (from stack-data->ipython->ipython-sql) (0.2.2)\n",
      "Requirement already satisfied: executing in /Users/yugosaito/anaconda3/lib/python3.10/site-packages (from stack-data->ipython->ipython-sql) (0.8.3)\n",
      "Requirement already satisfied: asttokens in /Users/yugosaito/anaconda3/lib/python3.10/site-packages (from stack-data->ipython->ipython-sql) (2.0.5)\n"
     ]
    }
   ],
   "source": [
    "#ライブラリをインポート\n",
    "import sqlite3\n",
    "# python-sql ライブラリをインストール\n",
    "!pip install ipython-sql"
   ]
  },
  {
   "cell_type": "markdown",
   "id": "c76b99dc",
   "metadata": {},
   "source": [
    "### データをローディング"
   ]
  },
  {
   "cell_type": "code",
   "execution_count": 96,
   "id": "f7e4050a",
   "metadata": {
    "scrolled": true
   },
   "outputs": [
    {
     "name": "stdout",
     "output_type": "stream",
     "text": [
      "The sql extension is already loaded. To reload it, use:\n",
      "  %reload_ext sql\n"
     ]
    }
   ],
   "source": [
    "# sqlite3ライブラリをコネクト\n",
    "cnn = sqlite3.connect('car_sample_data.db')\n",
    "\n",
    "#dfからsqlに変更。一度変更したら変更しないで良い。\n",
    "#df_cars.to_sql('vehicles', cnn)\n",
    "\n",
    "#一度ロードしたらロードしないで良い。\n",
    "%load_ext sql\n",
    "\n",
    "%sql sqlite:///car_sample_data.db"
   ]
  },
  {
   "cell_type": "markdown",
   "id": "1280bfe3",
   "metadata": {},
   "source": [
    "### 環境構築が上手くいったかをテスト"
   ]
  },
  {
   "cell_type": "code",
   "execution_count": 97,
   "id": "0c5b9298-dddd-42c0-84a9-8aad28a84cab",
   "metadata": {
    "customType": "sql",
    "dataFrameVariableName": "df",
    "executionTime": 1038,
    "initial": false,
    "integrationId": "3b99a52b-51d6-49a4-b2fd-4ca490fb4f4b",
    "lastSuccessfullyExecutedCode": "SELECT * \nFROM brands;",
    "scrolled": true,
    "sqlSource": {
     "integrationId": "3b99a52b-51d6-49a4-b2fd-4ca490fb4f4b",
     "type": "integration"
    }
   },
   "outputs": [
    {
     "name": "stdout",
     "output_type": "stream",
     "text": [
      " * sqlite:///car_sample_data.db\n",
      "Done.\n"
     ]
    },
    {
     "data": {
      "text/html": [
       "<table>\n",
       "    <thead>\n",
       "        <tr>\n",
       "            <th>index</th>\n",
       "            <th>make</th>\n",
       "            <th>model</th>\n",
       "            <th>car_class</th>\n",
       "            <th>engine_size</th>\n",
       "            <th>cylinders</th>\n",
       "            <th>transmission</th>\n",
       "            <th>fuel_type</th>\n",
       "            <th>fuel_consumption</th>\n",
       "            <th>co2_emissions</th>\n",
       "        </tr>\n",
       "    </thead>\n",
       "    <tbody>\n",
       "        <tr>\n",
       "            <td>0</td>\n",
       "            <td>ACURA</td>\n",
       "            <td>ILX</td>\n",
       "            <td>COMPACT</td>\n",
       "            <td>2.0</td>\n",
       "            <td>4</td>\n",
       "            <td>AS5</td>\n",
       "            <td>Z</td>\n",
       "            <td>8.5</td>\n",
       "            <td>196</td>\n",
       "        </tr>\n",
       "        <tr>\n",
       "            <td>1</td>\n",
       "            <td>ACURA</td>\n",
       "            <td>ILX</td>\n",
       "            <td>COMPACT</td>\n",
       "            <td>2.4</td>\n",
       "            <td>4</td>\n",
       "            <td>M6</td>\n",
       "            <td>Z</td>\n",
       "            <td>9.6</td>\n",
       "            <td>221</td>\n",
       "        </tr>\n",
       "        <tr>\n",
       "            <td>2</td>\n",
       "            <td>ACURA</td>\n",
       "            <td>ILX HYBRID</td>\n",
       "            <td>COMPACT</td>\n",
       "            <td>1.5</td>\n",
       "            <td>4</td>\n",
       "            <td>AV7</td>\n",
       "            <td>Z</td>\n",
       "            <td>5.9</td>\n",
       "            <td>136</td>\n",
       "        </tr>\n",
       "        <tr>\n",
       "            <td>3</td>\n",
       "            <td>ACURA</td>\n",
       "            <td>MDX 4WD</td>\n",
       "            <td>SUV - SMALL</td>\n",
       "            <td>3.5</td>\n",
       "            <td>6</td>\n",
       "            <td>AS6</td>\n",
       "            <td>Z</td>\n",
       "            <td>11.1</td>\n",
       "            <td>255</td>\n",
       "        </tr>\n",
       "        <tr>\n",
       "            <td>4</td>\n",
       "            <td>ACURA</td>\n",
       "            <td>RDX AWD</td>\n",
       "            <td>SUV - SMALL</td>\n",
       "            <td>3.5</td>\n",
       "            <td>6</td>\n",
       "            <td>AS6</td>\n",
       "            <td>Z</td>\n",
       "            <td>10.6</td>\n",
       "            <td>244</td>\n",
       "        </tr>\n",
       "    </tbody>\n",
       "</table>"
      ],
      "text/plain": [
       "[(0, 'ACURA', 'ILX', 'COMPACT', 2.0, 4, 'AS5', 'Z', 8.5, 196),\n",
       " (1, 'ACURA', 'ILX', 'COMPACT', 2.4, 4, 'M6', 'Z', 9.6, 221),\n",
       " (2, 'ACURA', 'ILX HYBRID', 'COMPACT', 1.5, 4, 'AV7', 'Z', 5.9, 136),\n",
       " (3, 'ACURA', 'MDX 4WD', 'SUV - SMALL', 3.5, 6, 'AS6', 'Z', 11.1, 255),\n",
       " (4, 'ACURA', 'RDX AWD', 'SUV - SMALL', 3.5, 6, 'AS6', 'Z', 10.6, 244)]"
      ]
     },
     "execution_count": 97,
     "metadata": {},
     "output_type": "execute_result"
    }
   ],
   "source": [
    "%%sql \n",
    "--データ抽出テスト\n",
    "SELECT * \n",
    "FROM vehicles\n",
    "limit 5"
   ]
  },
  {
   "cell_type": "markdown",
   "id": "db8f9cc6",
   "metadata": {},
   "source": [
    "### 列の名前を変更\n",
    "ex. Vehicle Class等のコラムのスペースを削除し、新しい名前に変更する。"
   ]
  },
  {
   "cell_type": "code",
   "execution_count": 94,
   "id": "bf733ddb",
   "metadata": {
    "scrolled": true
   },
   "outputs": [
    {
     "name": "stdout",
     "output_type": "stream",
     "text": [
      " * sqlite:///car_sample_data.db\n",
      "Done.\n"
     ]
    },
    {
     "data": {
      "text/plain": [
       "[]"
      ]
     },
     "execution_count": 94,
     "metadata": {},
     "output_type": "execute_result"
    }
   ],
   "source": [
    "%%sql\n",
    "--一度やればコラム名は変更される\n",
    "--ALTER TABLE vehicles\n",
    "--RENAME COLUMN 'Transmission' to transmission;"
   ]
  },
  {
   "cell_type": "code",
   "execution_count": 149,
   "id": "b6dc9b35",
   "metadata": {
    "scrolled": false
   },
   "outputs": [
    {
     "name": "stdout",
     "output_type": "stream",
     "text": [
      " * sqlite:///car_sample_data.db\n",
      "Done.\n"
     ]
    },
    {
     "data": {
      "text/html": [
       "<table>\n",
       "    <thead>\n",
       "        <tr>\n",
       "            <th>index</th>\n",
       "            <th>make</th>\n",
       "            <th>model</th>\n",
       "            <th>car_class</th>\n",
       "            <th>engine_size</th>\n",
       "            <th>cylinders</th>\n",
       "            <th>transmission</th>\n",
       "            <th>fuel_type</th>\n",
       "            <th>fuel_consumption</th>\n",
       "            <th>co2_emissions</th>\n",
       "        </tr>\n",
       "    </thead>\n",
       "    <tbody>\n",
       "        <tr>\n",
       "            <td>0</td>\n",
       "            <td>ACURA</td>\n",
       "            <td>ILX</td>\n",
       "            <td>COMPACT</td>\n",
       "            <td>2.0</td>\n",
       "            <td>4</td>\n",
       "            <td>AS5</td>\n",
       "            <td>Z</td>\n",
       "            <td>8.5</td>\n",
       "            <td>196</td>\n",
       "        </tr>\n",
       "        <tr>\n",
       "            <td>1</td>\n",
       "            <td>ACURA</td>\n",
       "            <td>ILX</td>\n",
       "            <td>COMPACT</td>\n",
       "            <td>2.4</td>\n",
       "            <td>4</td>\n",
       "            <td>M6</td>\n",
       "            <td>Z</td>\n",
       "            <td>9.6</td>\n",
       "            <td>221</td>\n",
       "        </tr>\n",
       "        <tr>\n",
       "            <td>2</td>\n",
       "            <td>ACURA</td>\n",
       "            <td>ILX HYBRID</td>\n",
       "            <td>COMPACT</td>\n",
       "            <td>1.5</td>\n",
       "            <td>4</td>\n",
       "            <td>AV7</td>\n",
       "            <td>Z</td>\n",
       "            <td>5.9</td>\n",
       "            <td>136</td>\n",
       "        </tr>\n",
       "        <tr>\n",
       "            <td>3</td>\n",
       "            <td>ACURA</td>\n",
       "            <td>MDX 4WD</td>\n",
       "            <td>SUV - SMALL</td>\n",
       "            <td>3.5</td>\n",
       "            <td>6</td>\n",
       "            <td>AS6</td>\n",
       "            <td>Z</td>\n",
       "            <td>11.1</td>\n",
       "            <td>255</td>\n",
       "        </tr>\n",
       "        <tr>\n",
       "            <td>4</td>\n",
       "            <td>ACURA</td>\n",
       "            <td>RDX AWD</td>\n",
       "            <td>SUV - SMALL</td>\n",
       "            <td>3.5</td>\n",
       "            <td>6</td>\n",
       "            <td>AS6</td>\n",
       "            <td>Z</td>\n",
       "            <td>10.6</td>\n",
       "            <td>244</td>\n",
       "        </tr>\n",
       "    </tbody>\n",
       "</table>"
      ],
      "text/plain": [
       "[(0, 'ACURA', 'ILX', 'COMPACT', 2.0, 4, 'AS5', 'Z', 8.5, 196),\n",
       " (1, 'ACURA', 'ILX', 'COMPACT', 2.4, 4, 'M6', 'Z', 9.6, 221),\n",
       " (2, 'ACURA', 'ILX HYBRID', 'COMPACT', 1.5, 4, 'AV7', 'Z', 5.9, 136),\n",
       " (3, 'ACURA', 'MDX 4WD', 'SUV - SMALL', 3.5, 6, 'AS6', 'Z', 11.1, 255),\n",
       " (4, 'ACURA', 'RDX AWD', 'SUV - SMALL', 3.5, 6, 'AS6', 'Z', 10.6, 244)]"
      ]
     },
     "execution_count": 149,
     "metadata": {},
     "output_type": "execute_result"
    }
   ],
   "source": [
    "%%sql \n",
    "--テスト\n",
    "SELECT * \n",
    "FROM vehicles\n",
    "LIMIT 5"
   ]
  },
  {
   "cell_type": "markdown",
   "id": "0b27c888-1e78-4cf9-b09e-f9b6d1fc7555",
   "metadata": {},
   "source": [
    "## 💪 チャレンジ問題\n",
    "車の製品を理解できるようにsqlを使いなさい。下記の事を実行しなさい：\n",
    "\n",
    "1. もっとも大きいエンジンサイズはどの車ですか？\n",
    "2. 車は合計いくつありますか?\n",
    "3. CO2の排出量が最も低い車はなんですか?\n",
    "4. 分析中に発見した洞察はありますか?"
   ]
  },
  {
   "cell_type": "markdown",
   "id": "34cd4bf6-9ef2-4b0a-be19-eef23f5c775b",
   "metadata": {},
   "source": [
    "1. もっとも大きいエンジンサイズはどの車ですか？"
   ]
  },
  {
   "cell_type": "code",
   "execution_count": 148,
   "id": "c3e9393f-7bb8-4a7b-a7c8-7b51b7059446",
   "metadata": {
    "customType": "sql",
    "dataFrameVariableName": "df1",
    "executionTime": 5826,
    "lastSuccessfullyExecutedCode": "SELECT \n\tproduct_name, list_price\nFROM products\nwhere list_price = (select max(list_price) from products)\nunion all \nSELECT \n\tproduct_name, list_price\nFROM products\nwhere list_price = (select min(list_price) from products)\n",
    "scrolled": false,
    "sqlSource": {
     "integrationId": "3b99a52b-51d6-49a4-b2fd-4ca490fb4f4b",
     "type": "integration"
    }
   },
   "outputs": [
    {
     "name": "stdout",
     "output_type": "stream",
     "text": [
      " * sqlite:///car_sample_data.db\n",
      "Done.\n"
     ]
    },
    {
     "data": {
      "text/html": [
       "<table>\n",
       "    <thead>\n",
       "        <tr>\n",
       "            <th>make</th>\n",
       "            <th>model</th>\n",
       "            <th>engine_size</th>\n",
       "            <th>co2_emissions</th>\n",
       "        </tr>\n",
       "    </thead>\n",
       "    <tbody>\n",
       "        <tr>\n",
       "            <td>SRT</td>\n",
       "            <td>VIPER COUPE</td>\n",
       "            <td>8.4</td>\n",
       "            <td>389</td>\n",
       "        </tr>\n",
       "        <tr>\n",
       "            <td>SRT</td>\n",
       "            <td>VIPER GTS COUPE</td>\n",
       "            <td>8.4</td>\n",
       "            <td>389</td>\n",
       "        </tr>\n",
       "        <tr>\n",
       "            <td>DODGE</td>\n",
       "            <td>VIPER SRT COUPE</td>\n",
       "            <td>8.4</td>\n",
       "            <td>363</td>\n",
       "        </tr>\n",
       "        <tr>\n",
       "            <td>DODGE</td>\n",
       "            <td>VIPER SRT</td>\n",
       "            <td>8.4</td>\n",
       "            <td>364</td>\n",
       "        </tr>\n",
       "        <tr>\n",
       "            <td>DODGE</td>\n",
       "            <td>VIPER</td>\n",
       "            <td>8.4</td>\n",
       "            <td>387</td>\n",
       "        </tr>\n",
       "        <tr>\n",
       "            <td>BUGATTI</td>\n",
       "            <td>CHIRON</td>\n",
       "            <td>8.0</td>\n",
       "            <td>522</td>\n",
       "        </tr>\n",
       "        <tr>\n",
       "            <td>BUGATTI</td>\n",
       "            <td>Chiron</td>\n",
       "            <td>8.0</td>\n",
       "            <td>522</td>\n",
       "        </tr>\n",
       "        <tr>\n",
       "            <td>BUGATTI</td>\n",
       "            <td>Chiron</td>\n",
       "            <td>8.0</td>\n",
       "            <td>522</td>\n",
       "        </tr>\n",
       "        <tr>\n",
       "            <td>BENTLEY</td>\n",
       "            <td>MULSANNE</td>\n",
       "            <td>6.8</td>\n",
       "            <td>437</td>\n",
       "        </tr>\n",
       "        <tr>\n",
       "            <td>FORD</td>\n",
       "            <td>E350 WAGON</td>\n",
       "            <td>6.8</td>\n",
       "            <td>488</td>\n",
       "        </tr>\n",
       "    </tbody>\n",
       "</table>"
      ],
      "text/plain": [
       "[('SRT', 'VIPER COUPE', 8.4, 389),\n",
       " ('SRT', 'VIPER GTS COUPE', 8.4, 389),\n",
       " ('DODGE', 'VIPER SRT COUPE', 8.4, 363),\n",
       " ('DODGE', 'VIPER SRT', 8.4, 364),\n",
       " ('DODGE', 'VIPER', 8.4, 387),\n",
       " ('BUGATTI', 'CHIRON', 8.0, 522),\n",
       " ('BUGATTI', 'Chiron', 8.0, 522),\n",
       " ('BUGATTI', 'Chiron', 8.0, 522),\n",
       " ('BENTLEY', 'MULSANNE', 6.8, 437),\n",
       " ('FORD', 'E350 WAGON', 6.8, 488)]"
      ]
     },
     "execution_count": 148,
     "metadata": {},
     "output_type": "execute_result"
    }
   ],
   "source": [
    "%%sql\n",
    "SELECT \n",
    "    make, \n",
    "    model, \n",
    "    engine_size,\n",
    "    co2_emissions\n",
    "FROM \n",
    "    vehicles\n",
    "ORDER BY \n",
    "    engine_size DESC\n",
    "LIMIT 10"
   ]
  },
  {
   "cell_type": "markdown",
   "id": "1eddd83e-9c7e-4151-8127-41b5582bd71b",
   "metadata": {},
   "source": [
    "2. 車は合計でいくつありますか?"
   ]
  },
  {
   "cell_type": "code",
   "execution_count": 47,
   "id": "763cfb20-63c4-48b3-9f00-92c25bf06a06",
   "metadata": {
    "customType": "sql",
    "dataFrameVariableName": "df3",
    "executionTime": 1010,
    "lastSuccessfullyExecutedCode": "select c.category_id, category_name, sum(product_id) as sold_per_category\nfrom products as p\nleft join categories as c\non p.category_id = c.category_id\ngroup by c.category_id, category_name\norder by sold_per_category desc",
    "scrolled": true,
    "sqlSource": {
     "integrationId": "3b99a52b-51d6-49a4-b2fd-4ca490fb4f4b",
     "type": "integration"
    }
   },
   "outputs": [
    {
     "name": "stdout",
     "output_type": "stream",
     "text": [
      " * sqlite:///car_sample_data.db\n",
      "Done.\n"
     ]
    },
    {
     "data": {
      "text/html": [
       "<table>\n",
       "    <thead>\n",
       "        <tr>\n",
       "            <th>total_column</th>\n",
       "        </tr>\n",
       "    </thead>\n",
       "    <tbody>\n",
       "        <tr>\n",
       "            <td>7385</td>\n",
       "        </tr>\n",
       "    </tbody>\n",
       "</table>"
      ],
      "text/plain": [
       "[(7385,)]"
      ]
     },
     "execution_count": 47,
     "metadata": {},
     "output_type": "execute_result"
    }
   ],
   "source": [
    "%%sql\n",
    "SELECT count(\"index\") AS total_column\n",
    "FROM vehicles;"
   ]
  },
  {
   "cell_type": "markdown",
   "id": "eadff2d2-5dc8-462e-a441-6391cd452764",
   "metadata": {},
   "source": [
    "3. CO2の排出量が最も低い車はなんですか?"
   ]
  },
  {
   "cell_type": "code",
   "execution_count": 147,
   "id": "25911691-9672-4f28-8b4c-537349b385cf",
   "metadata": {
    "chartConfig": {
     "bar": {
      "hasRoundedCorners": true,
      "stacked": false
     },
     "type": "bar",
     "version": "v1"
    },
    "customType": "sql",
    "dataFrameVariableName": "df2",
    "executionTime": 1374,
    "lastSuccessfullyExecutedCode": "select b.brand_id, b.brand_name, round(avg(list_price),2) as average_list_price\nfrom products as p\nleft join brands as b\non p.brand_id = b.brand_id\ngroup by b.brand_id, b.brand_name\norder by average_list_price desc",
    "sqlSource": {
     "integrationId": "3b99a52b-51d6-49a4-b2fd-4ca490fb4f4b",
     "type": "integration"
    },
    "visualizeDataframe": false
   },
   "outputs": [
    {
     "name": "stdout",
     "output_type": "stream",
     "text": [
      " * sqlite:///car_sample_data.db\n",
      "Done.\n"
     ]
    },
    {
     "data": {
      "text/html": [
       "<table>\n",
       "    <thead>\n",
       "        <tr>\n",
       "            <th>make</th>\n",
       "            <th>model</th>\n",
       "            <th>engine_size</th>\n",
       "            <th>min_co2</th>\n",
       "        </tr>\n",
       "    </thead>\n",
       "    <tbody>\n",
       "        <tr>\n",
       "            <td>HYUNDAI</td>\n",
       "            <td>IONIQ BLUE</td>\n",
       "            <td>1.6</td>\n",
       "            <td>96</td>\n",
       "        </tr>\n",
       "    </tbody>\n",
       "</table>"
      ],
      "text/plain": [
       "[('HYUNDAI', 'IONIQ BLUE', 1.6, 96)]"
      ]
     },
     "execution_count": 147,
     "metadata": {},
     "output_type": "execute_result"
    }
   ],
   "source": [
    "%%sql\n",
    "SELECT \n",
    "    make, \n",
    "    model, \n",
    "    engine_size,\n",
    "    min(\"co2_emissions\") AS min_co2\n",
    "FROM vehicles;"
   ]
  },
  {
   "cell_type": "code",
   "execution_count": 145,
   "id": "437ea0ac",
   "metadata": {
    "scrolled": false
   },
   "outputs": [
    {
     "name": "stdout",
     "output_type": "stream",
     "text": [
      " * sqlite:///car_sample_data.db\n",
      "Done.\n"
     ]
    },
    {
     "data": {
      "text/html": [
       "<table>\n",
       "    <thead>\n",
       "        <tr>\n",
       "            <th>make</th>\n",
       "            <th>model</th>\n",
       "            <th>engine_size</th>\n",
       "            <th>co2_emissions</th>\n",
       "        </tr>\n",
       "    </thead>\n",
       "    <tbody>\n",
       "        <tr>\n",
       "            <td>HYUNDAI</td>\n",
       "            <td>IONIQ BLUE</td>\n",
       "            <td>1.6</td>\n",
       "            <td>96</td>\n",
       "        </tr>\n",
       "        <tr>\n",
       "            <td>HYUNDAI</td>\n",
       "            <td>IONIQ Blue</td>\n",
       "            <td>1.6</td>\n",
       "            <td>96</td>\n",
       "        </tr>\n",
       "        <tr>\n",
       "            <td>HYUNDAI</td>\n",
       "            <td>IONIQ</td>\n",
       "            <td>1.6</td>\n",
       "            <td>103</td>\n",
       "        </tr>\n",
       "        <tr>\n",
       "            <td>TOYOTA</td>\n",
       "            <td>Prius</td>\n",
       "            <td>1.8</td>\n",
       "            <td>105</td>\n",
       "        </tr>\n",
       "        <tr>\n",
       "            <td>TOYOTA</td>\n",
       "            <td>Corolla Hybrid</td>\n",
       "            <td>1.8</td>\n",
       "            <td>106</td>\n",
       "        </tr>\n",
       "        <tr>\n",
       "            <td>TOYOTA</td>\n",
       "            <td>PRIUS c</td>\n",
       "            <td>1.5</td>\n",
       "            <td>108</td>\n",
       "        </tr>\n",
       "        <tr>\n",
       "            <td>TOYOTA</td>\n",
       "            <td>Prius AWD</td>\n",
       "            <td>1.8</td>\n",
       "            <td>109</td>\n",
       "        </tr>\n",
       "        <tr>\n",
       "            <td>HONDA</td>\n",
       "            <td>ACCORD HYBRID</td>\n",
       "            <td>2.0</td>\n",
       "            <td>110</td>\n",
       "        </tr>\n",
       "        <tr>\n",
       "            <td>KIA</td>\n",
       "            <td>NIRO FE</td>\n",
       "            <td>1.6</td>\n",
       "            <td>110</td>\n",
       "        </tr>\n",
       "        <tr>\n",
       "            <td>KIA</td>\n",
       "            <td>Niro FE</td>\n",
       "            <td>1.6</td>\n",
       "            <td>110</td>\n",
       "        </tr>\n",
       "    </tbody>\n",
       "</table>"
      ],
      "text/plain": [
       "[('HYUNDAI', 'IONIQ BLUE', 1.6, 96),\n",
       " ('HYUNDAI', 'IONIQ Blue', 1.6, 96),\n",
       " ('HYUNDAI', 'IONIQ', 1.6, 103),\n",
       " ('TOYOTA', 'Prius', 1.8, 105),\n",
       " ('TOYOTA', 'Corolla Hybrid', 1.8, 106),\n",
       " ('TOYOTA', 'PRIUS c', 1.5, 108),\n",
       " ('TOYOTA', 'Prius AWD', 1.8, 109),\n",
       " ('HONDA', 'ACCORD HYBRID', 2.0, 110),\n",
       " ('KIA', 'NIRO FE', 1.6, 110),\n",
       " ('KIA', 'Niro FE', 1.6, 110)]"
      ]
     },
     "execution_count": 145,
     "metadata": {},
     "output_type": "execute_result"
    }
   ],
   "source": [
    "%%sql\n",
    "SELECT \n",
    "    make, \n",
    "    model, \n",
    "    engine_size,\n",
    "    co2_emissions\n",
    "FROM\n",
    "    vehicles\n",
    "GROUP BY \n",
    "    model \n",
    "ORDER BY \n",
    "    co2_emissions ASC\n",
    "LIMIT 10;"
   ]
  },
  {
   "cell_type": "markdown",
   "id": "15407328-7a3a-4fb1-92a6-e7f636ea8230",
   "metadata": {},
   "source": [
    "4. 分析中に発見した洞察はありますか? メーカー別で一番環境に良い車を調べます。"
   ]
  },
  {
   "cell_type": "code",
   "execution_count": 146,
   "id": "fb70ed4f-23c4-464b-9293-1b364b3d17fe",
   "metadata": {
    "customType": "sql",
    "dataFrameVariableName": "df4",
    "executionTime": 1445,
    "jupyter": {
     "outputs_hidden": false,
     "source_hidden": false
    },
    "lastSuccessfullyExecutedCode": "select brand_name, model_year, round(max(list_price),2) as most_expensive_by_brand_and_year\nfrom products as p\nleft join brands as b\non p.brand_id = b.brand_id\ngroup by brand_name, model_year\norder by most_expensive_by_brand_and_year desc",
    "scrolled": false,
    "sqlSource": {
     "integrationId": "3b99a52b-51d6-49a4-b2fd-4ca490fb4f4b",
     "type": "integration"
    }
   },
   "outputs": [
    {
     "name": "stdout",
     "output_type": "stream",
     "text": [
      " * sqlite:///car_sample_data.db\n",
      "Done.\n"
     ]
    },
    {
     "data": {
      "text/html": [
       "<table>\n",
       "    <thead>\n",
       "        <tr>\n",
       "            <th>make</th>\n",
       "            <th>model</th>\n",
       "            <th>engine_size</th>\n",
       "            <th>cylinders</th>\n",
       "            <th>fuel_type</th>\n",
       "            <th>min(co2_emissions)</th>\n",
       "        </tr>\n",
       "    </thead>\n",
       "    <tbody>\n",
       "        <tr>\n",
       "            <td>ACURA</td>\n",
       "            <td>ILX HYBRID</td>\n",
       "            <td>1.5</td>\n",
       "            <td>4</td>\n",
       "            <td>Z</td>\n",
       "            <td>136</td>\n",
       "        </tr>\n",
       "        <tr>\n",
       "            <td>ALFA ROMEO</td>\n",
       "            <td>4C</td>\n",
       "            <td>1.8</td>\n",
       "            <td>4</td>\n",
       "            <td>Z</td>\n",
       "            <td>193</td>\n",
       "        </tr>\n",
       "        <tr>\n",
       "            <td>AUDI</td>\n",
       "            <td>A3</td>\n",
       "            <td>1.8</td>\n",
       "            <td>4</td>\n",
       "            <td>Z</td>\n",
       "            <td>200</td>\n",
       "        </tr>\n",
       "        <tr>\n",
       "            <td>BUICK</td>\n",
       "            <td>ENCORE SPORT TOURING</td>\n",
       "            <td>1.4</td>\n",
       "            <td>4</td>\n",
       "            <td>X</td>\n",
       "            <td>182</td>\n",
       "        </tr>\n",
       "        <tr>\n",
       "            <td>CHEVROLET</td>\n",
       "            <td>MALIBU HYBRID</td>\n",
       "            <td>1.8</td>\n",
       "            <td>4</td>\n",
       "            <td>X</td>\n",
       "            <td>121</td>\n",
       "        </tr>\n",
       "        <tr>\n",
       "            <td>DODGE</td>\n",
       "            <td>DART TURBO AERO</td>\n",
       "            <td>1.4</td>\n",
       "            <td>4</td>\n",
       "            <td>X</td>\n",
       "            <td>168</td>\n",
       "        </tr>\n",
       "        <tr>\n",
       "            <td>FIAT</td>\n",
       "            <td>500 HATCHBACK</td>\n",
       "            <td>1.4</td>\n",
       "            <td>4</td>\n",
       "            <td>X</td>\n",
       "            <td>156</td>\n",
       "        </tr>\n",
       "        <tr>\n",
       "            <td>FORD</td>\n",
       "            <td>FIESTA SFE</td>\n",
       "            <td>1.0</td>\n",
       "            <td>4</td>\n",
       "            <td>X</td>\n",
       "            <td>152</td>\n",
       "        </tr>\n",
       "        <tr>\n",
       "            <td>GMC</td>\n",
       "            <td>TERRAIN</td>\n",
       "            <td>1.6</td>\n",
       "            <td>4</td>\n",
       "            <td>D</td>\n",
       "            <td>198</td>\n",
       "        </tr>\n",
       "        <tr>\n",
       "            <td>HONDA</td>\n",
       "            <td>Insight EX</td>\n",
       "            <td>1.5</td>\n",
       "            <td>4</td>\n",
       "            <td>X</td>\n",
       "            <td>114</td>\n",
       "        </tr>\n",
       "        <tr>\n",
       "            <td>HYUNDAI</td>\n",
       "            <td>IONIQ BLUE</td>\n",
       "            <td>1.6</td>\n",
       "            <td>4</td>\n",
       "            <td>X</td>\n",
       "            <td>96</td>\n",
       "        </tr>\n",
       "        <tr>\n",
       "            <td>JEEP</td>\n",
       "            <td>RENEGADE</td>\n",
       "            <td>1.4</td>\n",
       "            <td>4</td>\n",
       "            <td>X</td>\n",
       "            <td>202</td>\n",
       "        </tr>\n",
       "        <tr>\n",
       "            <td>KIA</td>\n",
       "            <td>NIRO FE</td>\n",
       "            <td>1.6</td>\n",
       "            <td>4</td>\n",
       "            <td>X</td>\n",
       "            <td>110</td>\n",
       "        </tr>\n",
       "        <tr>\n",
       "            <td>LEXUS</td>\n",
       "            <td>CT 200h</td>\n",
       "            <td>1.8</td>\n",
       "            <td>4</td>\n",
       "            <td>X</td>\n",
       "            <td>129</td>\n",
       "        </tr>\n",
       "        <tr>\n",
       "            <td>MAZDA</td>\n",
       "            <td>MAZDA2</td>\n",
       "            <td>1.5</td>\n",
       "            <td>4</td>\n",
       "            <td>X</td>\n",
       "            <td>170</td>\n",
       "        </tr>\n",
       "        <tr>\n",
       "            <td>MERCEDES-BENZ</td>\n",
       "            <td>SLK 250</td>\n",
       "            <td>1.8</td>\n",
       "            <td>4</td>\n",
       "            <td>Z</td>\n",
       "            <td>205</td>\n",
       "        </tr>\n",
       "        <tr>\n",
       "            <td>MINI</td>\n",
       "            <td>COOPER 3 DOOR</td>\n",
       "            <td>1.5</td>\n",
       "            <td>3</td>\n",
       "            <td>Z</td>\n",
       "            <td>163</td>\n",
       "        </tr>\n",
       "        <tr>\n",
       "            <td>MITSUBISHI</td>\n",
       "            <td>MIRAGE</td>\n",
       "            <td>1.2</td>\n",
       "            <td>3</td>\n",
       "            <td>X</td>\n",
       "            <td>136</td>\n",
       "        </tr>\n",
       "        <tr>\n",
       "            <td>NISSAN</td>\n",
       "            <td>VERSA</td>\n",
       "            <td>1.6</td>\n",
       "            <td>4</td>\n",
       "            <td>X</td>\n",
       "            <td>152</td>\n",
       "        </tr>\n",
       "        <tr>\n",
       "            <td>SCION</td>\n",
       "            <td>iQ</td>\n",
       "            <td>1.3</td>\n",
       "            <td>4</td>\n",
       "            <td>X</td>\n",
       "            <td>143</td>\n",
       "        </tr>\n",
       "        <tr>\n",
       "            <td>SMART</td>\n",
       "            <td>FORTWO CABRIOLET</td>\n",
       "            <td>1.0</td>\n",
       "            <td>3</td>\n",
       "            <td>Z</td>\n",
       "            <td>147</td>\n",
       "        </tr>\n",
       "        <tr>\n",
       "            <td>TOYOTA</td>\n",
       "            <td>PRIUS</td>\n",
       "            <td>1.8</td>\n",
       "            <td>4</td>\n",
       "            <td>X</td>\n",
       "            <td>104</td>\n",
       "        </tr>\n",
       "        <tr>\n",
       "            <td>VOLKSWAGEN</td>\n",
       "            <td>JETTA HYBRID</td>\n",
       "            <td>1.4</td>\n",
       "            <td>4</td>\n",
       "            <td>Z</td>\n",
       "            <td>122</td>\n",
       "        </tr>\n",
       "    </tbody>\n",
       "</table>"
      ],
      "text/plain": [
       "[('ACURA', 'ILX HYBRID', 1.5, 4, 'Z', 136),\n",
       " ('ALFA ROMEO', '4C', 1.8, 4, 'Z', 193),\n",
       " ('AUDI', 'A3', 1.8, 4, 'Z', 200),\n",
       " ('BUICK', 'ENCORE SPORT TOURING', 1.4, 4, 'X', 182),\n",
       " ('CHEVROLET', 'MALIBU HYBRID', 1.8, 4, 'X', 121),\n",
       " ('DODGE', 'DART TURBO AERO', 1.4, 4, 'X', 168),\n",
       " ('FIAT', '500 HATCHBACK', 1.4, 4, 'X', 156),\n",
       " ('FORD', 'FIESTA SFE', 1.0, 4, 'X', 152),\n",
       " ('GMC', 'TERRAIN', 1.6, 4, 'D', 198),\n",
       " ('HONDA', 'Insight EX', 1.5, 4, 'X', 114),\n",
       " ('HYUNDAI', 'IONIQ BLUE', 1.6, 4, 'X', 96),\n",
       " ('JEEP', 'RENEGADE', 1.4, 4, 'X', 202),\n",
       " ('KIA', 'NIRO FE', 1.6, 4, 'X', 110),\n",
       " ('LEXUS', 'CT 200h', 1.8, 4, 'X', 129),\n",
       " ('MAZDA', 'MAZDA2', 1.5, 4, 'X', 170),\n",
       " ('MERCEDES-BENZ', 'SLK 250', 1.8, 4, 'Z', 205),\n",
       " ('MINI', 'COOPER 3 DOOR', 1.5, 3, 'Z', 163),\n",
       " ('MITSUBISHI', 'MIRAGE', 1.2, 3, 'X', 136),\n",
       " ('NISSAN', 'VERSA', 1.6, 4, 'X', 152),\n",
       " ('SCION', 'iQ', 1.3, 4, 'X', 143),\n",
       " ('SMART', 'FORTWO CABRIOLET', 1.0, 3, 'Z', 147),\n",
       " ('TOYOTA', 'PRIUS', 1.8, 4, 'X', 104),\n",
       " ('VOLKSWAGEN', 'JETTA HYBRID', 1.4, 4, 'Z', 122)]"
      ]
     },
     "execution_count": 146,
     "metadata": {},
     "output_type": "execute_result"
    }
   ],
   "source": [
    "%%sql\n",
    "SELECT \n",
    "    make,\n",
    "    model,\n",
    "    engine_size,\n",
    "    cylinders,\n",
    "    fuel_type,\n",
    "    min(co2_emissions)\n",
    "FROM\n",
    "    vehicles\n",
    "WHERE \n",
    "    engine_size < 2.0\n",
    "GROUP BY \n",
    "    make\n",
    "ORDER BY \n",
    "    MAKE ASC\n",
    "LIMIT 30"
   ]
  },
  {
   "cell_type": "markdown",
   "id": "753384ec",
   "metadata": {},
   "source": [
    "## データ分析結果\n",
    "\n",
    "この分析では、データベース内の車両データを使用し、車のメーカーごとに環境に優しい車を見つけることを目的としました。具体的には、エンジンサイズが2.0未満の車種を対象に、CO2排出量の最小値を取得しました。CO2排出量は、車の環境への影響を評価する上で重要な要素の一つです。\n",
    "\n",
    "分析の結果、メーカーごとに環境に優しい車種を特定することができました。例えば、ACURAのILX HYBRIDは136のCO2排出量で、環境に優しい車として浮上しました。また、ALFA ROMEOの4CやAUDIのA3なども、比較的低いCO2排出量を示しており、環境に配慮した車種と言えます。\n",
    "\n",
    "さらに、BUICKのENCORE SPORT TOURINGやCHEVROLETのMALIBU HYBRIDなど、他のメーカーのハイブリッド車も環境に優しい選択肢として挙げられました。これらの車種は、燃費効率を高めることでCO2排出量を抑えており、環境への影響を軽減しています。\n",
    "\n",
    "ただし、データ分析の結果はデータベース内の情報に基づいています。他の要素やデータの特性によって結果は異なる場合があります。また、この分析はエンジンサイズに基づいてフィルタリングを行っていますが、他の要素（燃料タイプ、車種の種類など）を考慮することも重要です。\n",
    "\n",
    "この分析結果は、各メーカーの環境に優しい車を特定するための出発点となります。さらに詳細な分析や他の要素を考慮した総合的な評価を行うことで、より具体的な結論や意思決定を行うことができます。"
   ]
  }
 ],
 "metadata": {
  "editor": "DataCamp Workspace",
  "kernelspec": {
   "display_name": "Python 3 (ipykernel)",
   "language": "python",
   "name": "python3"
  },
  "language_info": {
   "codemirror_mode": {
    "name": "ipython",
    "version": 3
   },
   "file_extension": ".py",
   "mimetype": "text/x-python",
   "name": "python",
   "nbconvert_exporter": "python",
   "pygments_lexer": "ipython3",
   "version": "3.10.9"
  }
 },
 "nbformat": 4,
 "nbformat_minor": 5
}
